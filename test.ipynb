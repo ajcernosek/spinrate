{
  "nbformat": 4,
  "nbformat_minor": 0,
  "metadata": {
    "colab": {
      "provenance": [],
      "authorship_tag": "ABX9TyNNWDTzz3X0/IxBzH7oAzap",
      "include_colab_link": true
    },
    "kernelspec": {
      "name": "python3",
      "display_name": "Python 3"
    },
    "language_info": {
      "name": "python"
    }
  },
  "cells": [
    {
      "cell_type": "markdown",
      "metadata": {
        "id": "view-in-github",
        "colab_type": "text"
      },
      "source": [
        "<a href=\"https://colab.research.google.com/github/ajcernosek/spinrate/blob/main/test.ipynb\" target=\"_parent\"><img src=\"https://colab.research.google.com/assets/colab-badge.svg\" alt=\"Open In Colab\"/></a>"
      ]
    },
    {
      "cell_type": "code",
      "execution_count": null,
      "metadata": {
        "id": "_MhWM7UX6ZFC"
      },
      "outputs": [],
      "source": [
        "# calculate p-value per year\n",
        "\n",
        "from scipy.stats import pearsonr\n",
        "\n",
        "# method to use for 'corr' function to return p-value\n",
        "# https://stackoverflow.com/questions/52741236/how-to-calculate-p-values-for-pairwise-correlation-of-columns-in-pandas\n",
        "def pearsonr_pval(x,y):\n",
        "    return pearsonr(x,y)[1]\n",
        "\n",
        "# change settings for prettier output of p-value correlations\n",
        "pd.set_option('display.max_rows', 500)\n",
        "pd.set_option('display.max_columns', 500)\n",
        "pd.set_option('display.width', 1000)\n",
        "\n",
        "# list of years to cycle through for finding specific year p-values\n",
        "years = [2023,2022,2021,2020,2019,2018,2017,2016,2015]\n",
        "\n",
        "# all years\n",
        "with pd.option_context('display.float_format', '{:0.6f}'.format):\n",
        "    data_spin_pv = data_spin_all.drop(columns=['last_name', 'first_name', 'year'])\n",
        "    corr = data_spin_pv.corr(method=pearsonr_pval,numeric_only=True)\n",
        "    print(\"All Years\\n{}\\n\".format(corr.loc[['fastball_avg_spin','pitch2_avg_spin'], ~corr.columns.isin(['fastball_avg_spin','pitch2_avg_spin'])]))\n",
        "\n",
        "# individual years\n",
        "for y in years:\n",
        "    with pd.option_context('display.float_format', '{:0.6f}'.format):\n",
        "        data_spin_year = data_spin_all.loc[data_spin_all['year'] == y]\n",
        "        data_spin_pv = data_spin_year.drop(columns=['last_name', 'first_name', 'year'])\n",
        "        corr = data_spin_pv.corr(method=pearsonr_pval,numeric_only=True)\n",
        "        corr2 = corr.loc[['fastball_avg_spin','pitch2_avg_spin'], ~corr.columns.isin(['fastball_avg_spin','pitch2_avg_spin'])]\n",
        "        print(\"\\n{}: P-Values\\n{}\\n\".format(y,corr.loc[['fastball_avg_spin','pitch2_avg_spin'], ~corr.columns.isin(['fastball_avg_spin','pitch2_avg_spin'])]))\n",
        "        # just print the statistically significant correlations (< 0.05)\n",
        "        corr2 = corr2[corr2 < .05].unstack().transpose()\\\n",
        "            .sort_values( ascending=True).dropna()\n",
        "        print(corr2)\n",
        "        # try out printing a p-value heatmap to visualize correlations; decided not to use this :)\n",
        "        # plt.figure(figsize=(6,4))\n",
        "        # sns.set(font_scale=.8)\n",
        "        # sns.heatmap(corr.loc[['fastball_avg_spin','pitch2_avg_spin'], ~corr.columns.isin(['fastball_avg_spin','pitch2_avg_spin'])].transpose(),annot=True, cmap=\"YlGnBu\",annot_kws={\"size\": 8},fmt='.4f')\n",
        "        # plt.title('P-Value Heatmap - {}'.format(y))"
      ]
    }
  ]
}